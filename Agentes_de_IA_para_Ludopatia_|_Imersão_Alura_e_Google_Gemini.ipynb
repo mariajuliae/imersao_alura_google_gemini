{
  "nbformat": 4,
  "nbformat_minor": 0,
  "metadata": {
    "colab": {
      "provenance": []
    },
    "kernelspec": {
      "name": "python3",
      "display_name": "Python 3"
    },
    "language_info": {
      "name": "python"
    }
  },
  "cells": [
    {
      "cell_type": "code",
      "source": [
        "!pip -q install google-genai"
      ],
      "metadata": {
        "id": "F54vjoCfJGlR"
      },
      "execution_count": 2,
      "outputs": []
    },
    {
      "cell_type": "code",
      "source": [
        "import os\n",
        "from google.colab import userdata\n",
        "\n",
        "os.environ[\"GOOGLE_API_KEY\"] = userdata.get('GOOGLE_API_KEY')"
      ],
      "metadata": {
        "id": "yy6Gm-ZsJIoc"
      },
      "execution_count": 3,
      "outputs": []
    },
    {
      "cell_type": "code",
      "source": [
        "from google import genai\n",
        "\n",
        "client = genai.Client()\n",
        "\n",
        "MODEL_ID = \"gemini-2.0-flash\""
      ],
      "metadata": {
        "id": "rdId1r8PJW3c"
      },
      "execution_count": 4,
      "outputs": []
    },
    {
      "cell_type": "code",
      "source": [
        "from IPython.display import HTML, Markdown\n",
        "response = client.models.generate_content(model = MODEL_ID, contents='Quando vai ser a premiação da imersão da Alura', config = {\"tools\": [{\"google_search\": {}}]})\n",
        "\n",
        "display(Markdown(f\"Resposta:\\n {response.text}\"))\n",
        "print(f\"Busca realizada: {response.candidates[0].grounding_metadata.web_search_queries}\")\n",
        "print(f\"Páginas utilizadas na resposta: {', '.join([site.web.title for site in response.candidates[0].grounding_metadata.grounding_chunks])}\")\n",
        "print()\n",
        "\n",
        "display(HTML(response.candidates[0].grounding_metadata.search_entry_point.rendered_content))"
      ],
      "metadata": {
        "colab": {
          "base_uri": "https://localhost:8080/",
          "height": 278
        },
        "id": "Ezc5HgkzJZRN",
        "outputId": "6542f97c-8400-46f0-d343-3b8537e8eab9"
      },
      "execution_count": 5,
      "outputs": [
        {
          "output_type": "display_data",
          "data": {
            "text/plain": [
              "<IPython.core.display.Markdown object>"
            ],
            "text/markdown": "Resposta:\n A premiação dos melhores projetos da Imersão IA da Alura + Google Gemini, que aconteceu entre os dias 12 e 16 de maio, será feita por uma banca avaliadora composta pelo time da Alura.\n\nOs prêmios para os melhores projetos incluem:\n\n*   Bolsa de 100% na Graduação On ou Pós Tech da FIAP\n*   Convite para IA Conference Brasil de 2025\n*   1 ano de acesso ao Plano ULTRA da Alura\n*   Participação no Hipsters.Tech\n*   Kit Alura"
          },
          "metadata": {}
        },
        {
          "output_type": "stream",
          "name": "stdout",
          "text": [
            "Busca realizada: ['premiação imersão Alura']\n",
            "Páginas utilizadas na resposta: alura.com.br\n",
            "\n"
          ]
        },
        {
          "output_type": "display_data",
          "data": {
            "text/plain": [
              "<IPython.core.display.HTML object>"
            ],
            "text/html": [
              "<style>\n",
              ".container {\n",
              "  align-items: center;\n",
              "  border-radius: 8px;\n",
              "  display: flex;\n",
              "  font-family: Google Sans, Roboto, sans-serif;\n",
              "  font-size: 14px;\n",
              "  line-height: 20px;\n",
              "  padding: 8px 12px;\n",
              "}\n",
              ".chip {\n",
              "  display: inline-block;\n",
              "  border: solid 1px;\n",
              "  border-radius: 16px;\n",
              "  min-width: 14px;\n",
              "  padding: 5px 16px;\n",
              "  text-align: center;\n",
              "  user-select: none;\n",
              "  margin: 0 8px;\n",
              "  -webkit-tap-highlight-color: transparent;\n",
              "}\n",
              ".carousel {\n",
              "  overflow: auto;\n",
              "  scrollbar-width: none;\n",
              "  white-space: nowrap;\n",
              "  margin-right: -12px;\n",
              "}\n",
              ".headline {\n",
              "  display: flex;\n",
              "  margin-right: 4px;\n",
              "}\n",
              ".gradient-container {\n",
              "  position: relative;\n",
              "}\n",
              ".gradient {\n",
              "  position: absolute;\n",
              "  transform: translate(3px, -9px);\n",
              "  height: 36px;\n",
              "  width: 9px;\n",
              "}\n",
              "@media (prefers-color-scheme: light) {\n",
              "  .container {\n",
              "    background-color: #fafafa;\n",
              "    box-shadow: 0 0 0 1px #0000000f;\n",
              "  }\n",
              "  .headline-label {\n",
              "    color: #1f1f1f;\n",
              "  }\n",
              "  .chip {\n",
              "    background-color: #ffffff;\n",
              "    border-color: #d2d2d2;\n",
              "    color: #5e5e5e;\n",
              "    text-decoration: none;\n",
              "  }\n",
              "  .chip:hover {\n",
              "    background-color: #f2f2f2;\n",
              "  }\n",
              "  .chip:focus {\n",
              "    background-color: #f2f2f2;\n",
              "  }\n",
              "  .chip:active {\n",
              "    background-color: #d8d8d8;\n",
              "    border-color: #b6b6b6;\n",
              "  }\n",
              "  .logo-dark {\n",
              "    display: none;\n",
              "  }\n",
              "  .gradient {\n",
              "    background: linear-gradient(90deg, #fafafa 15%, #fafafa00 100%);\n",
              "  }\n",
              "}\n",
              "@media (prefers-color-scheme: dark) {\n",
              "  .container {\n",
              "    background-color: #1f1f1f;\n",
              "    box-shadow: 0 0 0 1px #ffffff26;\n",
              "  }\n",
              "  .headline-label {\n",
              "    color: #fff;\n",
              "  }\n",
              "  .chip {\n",
              "    background-color: #2c2c2c;\n",
              "    border-color: #3c4043;\n",
              "    color: #fff;\n",
              "    text-decoration: none;\n",
              "  }\n",
              "  .chip:hover {\n",
              "    background-color: #353536;\n",
              "  }\n",
              "  .chip:focus {\n",
              "    background-color: #353536;\n",
              "  }\n",
              "  .chip:active {\n",
              "    background-color: #464849;\n",
              "    border-color: #53575b;\n",
              "  }\n",
              "  .logo-light {\n",
              "    display: none;\n",
              "  }\n",
              "  .gradient {\n",
              "    background: linear-gradient(90deg, #1f1f1f 15%, #1f1f1f00 100%);\n",
              "  }\n",
              "}\n",
              "</style>\n",
              "<div class=\"container\">\n",
              "  <div class=\"headline\">\n",
              "    <svg class=\"logo-light\" width=\"18\" height=\"18\" viewBox=\"9 9 35 35\" fill=\"none\" xmlns=\"http://www.w3.org/2000/svg\">\n",
              "      <path fill-rule=\"evenodd\" clip-rule=\"evenodd\" d=\"M42.8622 27.0064C42.8622 25.7839 42.7525 24.6084 42.5487 23.4799H26.3109V30.1568H35.5897C35.1821 32.3041 33.9596 34.1222 32.1258 35.3448V39.6864H37.7213C40.9814 36.677 42.8622 32.2571 42.8622 27.0064V27.0064Z\" fill=\"#4285F4\"/>\n",
              "      <path fill-rule=\"evenodd\" clip-rule=\"evenodd\" d=\"M26.3109 43.8555C30.9659 43.8555 34.8687 42.3195 37.7213 39.6863L32.1258 35.3447C30.5898 36.3792 28.6306 37.0061 26.3109 37.0061C21.8282 37.0061 18.0195 33.9811 16.6559 29.906H10.9194V34.3573C13.7563 39.9841 19.5712 43.8555 26.3109 43.8555V43.8555Z\" fill=\"#34A853\"/>\n",
              "      <path fill-rule=\"evenodd\" clip-rule=\"evenodd\" d=\"M16.6559 29.8904C16.3111 28.8559 16.1074 27.7588 16.1074 26.6146C16.1074 25.4704 16.3111 24.3733 16.6559 23.3388V18.8875H10.9194C9.74388 21.2072 9.06992 23.8247 9.06992 26.6146C9.06992 29.4045 9.74388 32.022 10.9194 34.3417L15.3864 30.8621L16.6559 29.8904V29.8904Z\" fill=\"#FBBC05\"/>\n",
              "      <path fill-rule=\"evenodd\" clip-rule=\"evenodd\" d=\"M26.3109 16.2386C28.85 16.2386 31.107 17.1164 32.9095 18.8091L37.8466 13.8719C34.853 11.082 30.9659 9.3736 26.3109 9.3736C19.5712 9.3736 13.7563 13.245 10.9194 18.8875L16.6559 23.3388C18.0195 19.2636 21.8282 16.2386 26.3109 16.2386V16.2386Z\" fill=\"#EA4335\"/>\n",
              "    </svg>\n",
              "    <svg class=\"logo-dark\" width=\"18\" height=\"18\" viewBox=\"0 0 48 48\" xmlns=\"http://www.w3.org/2000/svg\">\n",
              "      <circle cx=\"24\" cy=\"23\" fill=\"#FFF\" r=\"22\"/>\n",
              "      <path d=\"M33.76 34.26c2.75-2.56 4.49-6.37 4.49-11.26 0-.89-.08-1.84-.29-3H24.01v5.99h8.03c-.4 2.02-1.5 3.56-3.07 4.56v.75l3.91 2.97h.88z\" fill=\"#4285F4\"/>\n",
              "      <path d=\"M15.58 25.77A8.845 8.845 0 0 0 24 31.86c1.92 0 3.62-.46 4.97-1.31l4.79 3.71C31.14 36.7 27.65 38 24 38c-5.93 0-11.01-3.4-13.45-8.36l.17-1.01 4.06-2.85h.8z\" fill=\"#34A853\"/>\n",
              "      <path d=\"M15.59 20.21a8.864 8.864 0 0 0 0 5.58l-5.03 3.86c-.98-2-1.53-4.25-1.53-6.64 0-2.39.55-4.64 1.53-6.64l1-.22 3.81 2.98.22 1.08z\" fill=\"#FBBC05\"/>\n",
              "      <path d=\"M24 14.14c2.11 0 4.02.75 5.52 1.98l4.36-4.36C31.22 9.43 27.81 8 24 8c-5.93 0-11.01 3.4-13.45 8.36l5.03 3.85A8.86 8.86 0 0 1 24 14.14z\" fill=\"#EA4335\"/>\n",
              "    </svg>\n",
              "    <div class=\"gradient-container\"><div class=\"gradient\"></div></div>\n",
              "  </div>\n",
              "  <div class=\"carousel\">\n",
              "    <a class=\"chip\" href=\"https://vertexaisearch.cloud.google.com/grounding-api-redirect/AbF9wXFbpqcocb-2ZxgGkXzkP8ksZRLi2kdQve798MdhgqnFhzvVLiQ2NE5__2Ee0S6XYELEgkPaUQLPgJApVIRwsk8tedrPwgKW8go6CFAvPhM7gU3M9npucyPDrWh9BhvpubUkRss_FACVfI81FsG94Bo51Z67nF_LqUQBAXiPJxjFpXZ9O90TC0uqlBB6HGHVSMs4trRpkYwz66UNkUrMqoUBy5Zos7qbYWmr\">premiação imersão Alura</a>\n",
              "  </div>\n",
              "</div>\n"
            ]
          },
          "metadata": {}
        }
      ]
    },
    {
      "cell_type": "code",
      "source": [
        "!pip install -q google-adk"
      ],
      "metadata": {
        "colab": {
          "base_uri": "https://localhost:8080/"
        },
        "id": "EIb_F4uMJu9E",
        "outputId": "f4dd4646-1d37-4eee-f919-50ca706866db"
      },
      "execution_count": 6,
      "outputs": [
        {
          "output_type": "stream",
          "name": "stdout",
          "text": [
            "\u001b[?25l   \u001b[90m━━━━━━━━━━━━━━━━━━━━━━━━━━━━━━━━━━━━━━━━\u001b[0m \u001b[32m0.0/1.2 MB\u001b[0m \u001b[31m?\u001b[0m eta \u001b[36m-:--:--\u001b[0m\r\u001b[2K   \u001b[91m━━━━━━━━━━━━━━━━\u001b[0m\u001b[90m╺\u001b[0m\u001b[90m━━━━━━━━━━━━━━━━━━━━━━━\u001b[0m \u001b[32m0.5/1.2 MB\u001b[0m \u001b[31m14.3 MB/s\u001b[0m eta \u001b[36m0:00:01\u001b[0m\r\u001b[2K   \u001b[91m━━━━━━━━━━━━━━━━━━━━━━━━━━━━━━━━━━━━━━━\u001b[0m\u001b[91m╸\u001b[0m \u001b[32m1.2/1.2 MB\u001b[0m \u001b[31m22.6 MB/s\u001b[0m eta \u001b[36m0:00:01\u001b[0m\r\u001b[2K   \u001b[90m━━━━━━━━━━━━━━━━━━━━━━━━━━━━━━━━━━━━━━━━\u001b[0m \u001b[32m1.2/1.2 MB\u001b[0m \u001b[31m16.5 MB/s\u001b[0m eta \u001b[36m0:00:00\u001b[0m\n",
            "\u001b[?25h\u001b[?25l   \u001b[90m━━━━━━━━━━━━━━━━━━━━━━━━━━━━━━━━━━━━━━━━\u001b[0m \u001b[32m0.0/232.1 kB\u001b[0m \u001b[31m?\u001b[0m eta \u001b[36m-:--:--\u001b[0m\r\u001b[2K   \u001b[90m━━━━━━━━━━━━━━━━━━━━━━━━━━━━━━━━━━━━━━━━\u001b[0m \u001b[32m232.1/232.1 kB\u001b[0m \u001b[31m13.7 MB/s\u001b[0m eta \u001b[36m0:00:00\u001b[0m\n",
            "\u001b[2K   \u001b[90m━━━━━━━━━━━━━━━━━━━━━━━━━━━━━━━━━━━━━━━━\u001b[0m \u001b[32m95.2/95.2 kB\u001b[0m \u001b[31m5.7 MB/s\u001b[0m eta \u001b[36m0:00:00\u001b[0m\n",
            "\u001b[2K   \u001b[90m━━━━━━━━━━━━━━━━━━━━━━━━━━━━━━━━━━━━━━━━\u001b[0m \u001b[32m217.1/217.1 kB\u001b[0m \u001b[31m9.5 MB/s\u001b[0m eta \u001b[36m0:00:00\u001b[0m\n",
            "\u001b[2K   \u001b[90m━━━━━━━━━━━━━━━━━━━━━━━━━━━━━━━━━━━━━━━━\u001b[0m \u001b[32m334.1/334.1 kB\u001b[0m \u001b[31m15.4 MB/s\u001b[0m eta \u001b[36m0:00:00\u001b[0m\n",
            "\u001b[2K   \u001b[90m━━━━━━━━━━━━━━━━━━━━━━━━━━━━━━━━━━━━━━━━\u001b[0m \u001b[32m125.1/125.1 kB\u001b[0m \u001b[31m7.7 MB/s\u001b[0m eta \u001b[36m0:00:00\u001b[0m\n",
            "\u001b[2K   \u001b[90m━━━━━━━━━━━━━━━━━━━━━━━━━━━━━━━━━━━━━━━━\u001b[0m \u001b[32m65.8/65.8 kB\u001b[0m \u001b[31m3.2 MB/s\u001b[0m eta \u001b[36m0:00:00\u001b[0m\n",
            "\u001b[2K   \u001b[90m━━━━━━━━━━━━━━━━━━━━━━━━━━━━━━━━━━━━━━━━\u001b[0m \u001b[32m119.0/119.0 kB\u001b[0m \u001b[31m5.9 MB/s\u001b[0m eta \u001b[36m0:00:00\u001b[0m\n",
            "\u001b[2K   \u001b[90m━━━━━━━━━━━━━━━━━━━━━━━━━━━━━━━━━━━━━━━━\u001b[0m \u001b[32m194.9/194.9 kB\u001b[0m \u001b[31m11.2 MB/s\u001b[0m eta \u001b[36m0:00:00\u001b[0m\n",
            "\u001b[2K   \u001b[90m━━━━━━━━━━━━━━━━━━━━━━━━━━━━━━━━━━━━━━━━\u001b[0m \u001b[32m62.5/62.5 kB\u001b[0m \u001b[31m4.0 MB/s\u001b[0m eta \u001b[36m0:00:00\u001b[0m\n",
            "\u001b[2K   \u001b[90m━━━━━━━━━━━━━━━━━━━━━━━━━━━━━━━━━━━━━━━━\u001b[0m \u001b[32m103.3/103.3 kB\u001b[0m \u001b[31m6.1 MB/s\u001b[0m eta \u001b[36m0:00:00\u001b[0m\n",
            "\u001b[2K   \u001b[90m━━━━━━━━━━━━━━━━━━━━━━━━━━━━━━━━━━━━━━━━\u001b[0m \u001b[32m44.4/44.4 kB\u001b[0m \u001b[31m2.5 MB/s\u001b[0m eta \u001b[36m0:00:00\u001b[0m\n",
            "\u001b[2K   \u001b[90m━━━━━━━━━━━━━━━━━━━━━━━━━━━━━━━━━━━━━━━━\u001b[0m \u001b[32m72.0/72.0 kB\u001b[0m \u001b[31m4.0 MB/s\u001b[0m eta \u001b[36m0:00:00\u001b[0m\n",
            "\u001b[?25h"
          ]
        }
      ]
    },
    {
      "cell_type": "code",
      "source": [
        "from google.adk.agents import Agent\n",
        "from google.adk.runners import Runner\n",
        "from google.adk.sessions import InMemorySessionService\n",
        "from google.adk.tools import google_search\n",
        "from google.genai import types\n",
        "from datetime import date\n",
        "import textwrap\n",
        "from IPython.display import display, Markdown\n",
        "import requests\n",
        "import warnings\n",
        "\n",
        "warnings.filterwarnings(\"ignore\")"
      ],
      "metadata": {
        "id": "ghr0LGgmJ0Gh"
      },
      "execution_count": 7,
      "outputs": []
    },
    {
      "cell_type": "code",
      "source": [
        "def call_agent(agent: Agent, message_text: str) -> str:\n",
        "    session_service = InMemorySessionService()\n",
        "    session = session_service.create_session(app_name=agent.name, user_id=\"user1\", session_id=\"session1\")\n",
        "    runner = Runner(agent=agent, app_name=agent.name, session_service=session_service)\n",
        "    content = types.Content(role=\"user\", parts=[types.Part(text=message_text)])\n",
        "\n",
        "    final_response = \"\"\n",
        "    for event in runner.run(user_id=\"user1\", session_id=\"session1\", new_message=content):\n",
        "        if event.is_final_response():\n",
        "          for part in event.content.parts:\n",
        "            if part.text is not None:\n",
        "              final_response += part.text\n",
        "              final_response += \"\\n\"\n",
        "    return final_response"
      ],
      "metadata": {
        "id": "plFf_IdjJ4eG"
      },
      "execution_count": 35,
      "outputs": []
    },
    {
      "cell_type": "code",
      "source": [
        "def to_markdown(text):\n",
        "  text = text.replace('•', '  *')\n",
        "  return Markdown(textwrap.indent(text, '> ', predicate=lambda _: True))"
      ],
      "metadata": {
        "id": "CLBVKTeHJ7bz"
      },
      "execution_count": 34,
      "outputs": []
    },
    {
      "cell_type": "code",
      "source": [
        "# --- Informações sobre Ludopatia (Texto criado a partir da pesquisa realizada no NotebookLM) ---\n",
        "informacoes_ludopatia = \"\"\"\n",
        "O que é Ludopatia?\n",
        "Ludopatia, também conhecida como transtorno do jogo patológico ou jogo compulsivo,\n",
        "é um transtorno comportamental caracterizado pela incapacidade de controlar impulsos\n",
        "relacionados à prática de jogos de azar. Esta condição leva a consequências\n",
        "adversas significativas na vida do indivíduo em diversas áreas, como saúde física\n",
        "e mental, finanças e relações sociais.\n",
        "\n",
        "Sinais Comuns (Não é um diagnóstico):\n",
        "- Preocupação excessiva com o jogo.\n",
        "- Necessidade de apostar quantias cada vez maiores para sentir excitação.\n",
        "- Dificuldade em controlar ou interromper o jogo.\n",
        "- Inquietação ou irritabilidade ao tentar reduzir ou parar de jogar.\n",
        "- Uso do jogo como fuga de problemas ou humor negativo.\n",
        "- Mentir sobre o comportamento de jogo.\n",
        "- Perda de relacionamentos ou oportunidades devido ao jogo.\n",
        "- Dependência financeira de terceiros para jogar ou cobrir perdas.\n",
        "\n",
        "Onde buscar ajuda?\n",
        "Profissionais de saúde mental (psiquiatras, psicólogos), Sistema Único de Saúde (SUS),\n",
        "Rede de Atenção Psicossocial (RAPS), e grupos de apoio como Jogadores Anônimos (JA).\n",
        "\"\"\""
      ],
      "metadata": {
        "id": "ZIDqBfoFJ95B"
      },
      "execution_count": 9,
      "outputs": []
    },
    {
      "cell_type": "code",
      "source": [
        "class AgenteTriagem:\n",
        "  \"\"\"Agente responsável por fazer perguntas de triagem e fornecer informações educacionais sobre ludopatia.\"\"\"\n",
        "\n",
        "    #### ---- BEM VINDO(A) AO CENTRO DE TRIAGEM ---- ####\n",
        "\n",
        "  def __init__(self):\n",
        "            self.perguntas = [\n",
        "                \"Você já perdeu horas de trabalho ou dos estudos devido ao jogo?\",\n",
        "                \"O jogo já causou infelicidade na sua vida familiar ou em relacionamentos importantes?\",\n",
        "                \"Você já sentiu remorso ou culpa após jogar?\",\n",
        "                \"Você já jogou para obter dinheiro para pagar dívidas ou resolver dificuldades financeiras?\",\n",
        "                \"Você já tentou controlar, diminuir ou parar de jogar várias vezes, mas não conseguiu?\",\n",
        "                \"Você já mentiu para familiares, amigos ou terapeutas para esconder o quanto você joga ou o dinheiro que gastou?\",\n",
        "                \"Você se sente inquieto(a), irritado(a) ou ansioso(a) ao tentar reduzir ou parar de jogar?\",\n",
        "                \"O jogo tem afetado negativamente sua saúde física ou mental (ex: ansiedade, depressão, estresse, problemas de sono)?\",\n",
        "                \"Você sente necessidade de apostar quantias cada vez maiores de dinheiro para alcançar a excitação desejada?\",\n",
        "                \"Você pensa constantemente sobre jogo (lembrando experiências passadas, planejando as próximas apostas, ou pensando em como conseguir dinheiro para jogar)?\"\n",
        "            ]\n",
        "            self.respostas_positivas = 0\n",
        "\n",
        "  def iniciar_triagem(self):\n",
        "            \"\"\"\n",
        "            Inicia o processo de triagem, fazendo perguntas ao usuário.\n",
        "            \"\"\"\n",
        "            print(\"\\n--- Agente de Triagem e Autoconscientização ---\")\n",
        "            print(\"Olá! Sou um assistente virtual e estou aqui para ajudar você a refletir sobre seus hábitos de jogo.\")\n",
        "            print(\"Vou fazer algumas perguntas. Por favor, responda com 'sim' ou 'nao'.\")\n",
        "            print(\"Lembre-se, isto não é um diagnóstico, mas uma forma de autoconhecimento.\\n\")\n",
        "\n",
        "            for i, pergunta in enumerate(self.perguntas):\n",
        "                while True:\n",
        "                    resposta = input(f\"{i + 1}. {pergunta} (sim/nao): \").strip().lower()\n",
        "                    if resposta in ['sim', 's']:\n",
        "                        self.respostas_positivas += 1\n",
        "                        break\n",
        "                    elif resposta in ['nao', 'n']:\n",
        "                        break\n",
        "                    else:\n",
        "                        print(\"Por favor, responda apenas com 'sim' ou 'nao'.\")\n",
        "\n",
        "            self._fornecer_feedback()\n",
        "\n",
        "  def _fornecer_feedback(self):\n",
        "            \"\"\"\n",
        "            Fornece um feedback geral baseado nas respostas do usuário e informações sobre ludopatia.\n",
        "            \"\"\"\n",
        "            print(\"\\n--- Resultados da Triagem (Reflexão) ---\")\n",
        "            print(f\"Você respondeu 'sim' para {self.respostas_positivas} de {len(self.perguntas)} perguntas.\")\n",
        "\n",
        "            if self.respostas_positivas == 0:\n",
        "                print(\n",
        "                    \"Com base nas suas respostas, parece que os comportamentos de jogo mencionados não são uma preocupação significativa no momento.\")\n",
        "                print(\"Continue atento(a) aos seus hábitos e bem-estar.\")\n",
        "            elif self.respostas_positivas <= 3:  # Ajuste nos limiares para feedback\n",
        "                print(\"Algumas das suas respostas indicam comportamentos que podem merecer atenção.\")\n",
        "                print(\"É bom estar ciente desses aspectos. Refletir sobre eles pode ser útil.\")\n",
        "            elif self.respostas_positivas <= 6:  # Ajuste nos limiares para feedback\n",
        "                print(\n",
        "                    \"Suas respostas sugerem que alguns comportamentos relacionados ao jogo podem estar causando dificuldades.\")\n",
        "                print(\"Pode ser um bom momento para refletir mais a fundo sobre o papel do jogo em sua vida.\")\n",
        "            else:\n",
        "                print(\n",
        "                    \"Suas respostas indicam vários comportamentos que são frequentemente associados a dificuldades com o jogo.\")\n",
        "                print(\n",
        "                    \"Considerar esses sinais é um passo importante. Existem recursos e apoio disponíveis caso você sinta necessidade.\")\n",
        "\n",
        "            print(\n",
        "                \"\\nLembre-se: Esta é apenas uma ferramenta de auto-reflexão e NÃO substitui a avaliação de um profissional de saúde mental.\")\n",
        "\n",
        "            print(\"\\n--- Informações Importantes sobre Ludopatia ---\")\n",
        "            print(informacoes_ludopatia)"
      ],
      "metadata": {
        "id": "c84qygY9Ls_L"
      },
      "execution_count": 40,
      "outputs": []
    },
    {
      "cell_type": "code",
      "source": [
        "# --- Agente de Encaminhamento (SONIA) ---\n",
        "agente_encaminhamento = Agent(\n",
        "    name=\"agente_encaminhamento_recursos_ludopatia\",\n",
        "    model=MODEL_ID,  # Use o modelo configurado que suporta tools\n",
        "    tools=[google_search],  # Ferramenta de busca do Google\n",
        "    instruction=textwrap.dedent(\n",
        "        \"\"\"\n",
        "        Você é um assistente virtual especializado em encontrar recursos de ajuda para ludopatia (vício em jogo).\n",
        "        Sua tarefa é, com base na CIDADE e ESTADO fornecidos pelo usuário, buscar e fornecer informações sobre:\n",
        "        1. Profissionais de saúde mental (psicólogos, psiquiatras) ou clínicas especializadas no tratamento da ludopatia na localidade.\n",
        "        2. Grupos de Jogadores Anônimos (JA) na localidade ou informações sobre como encontrá-los (incluindo reuniões online, se disponíveis).\n",
        "\n",
        "        Instruções para a resposta:\n",
        "        - Organize a resposta em seções claras: \"Psicólogos e Clínicas Especializadas\" e \"Jogadores Anônimos (JA)\".\n",
        "        - Para profissionais/clínicas:\n",
        "            - Sugira termos de busca que o usuário pode usar (ex: \"psicólogo ludopatia [cidade]\", \"clínica tratamento jogo [cidade]\").\n",
        "            - Mencione a possibilidade de consultar Conselhos Regionais de Psicologia ou CAPS.\n",
        "            - Se a busca retornar resultados diretos (nomes, contatos), liste alguns (simulando se a busca real não for detalhada).\n",
        "        - Para Jogadores Anônimos:\n",
        "            - Indique como encontrar o site oficial de JA no Brasil.\n",
        "            - Mencione a existência de reuniões presenciais e online.\n",
        "            - Se possível, cite exemplos de como a informação de um grupo local poderia ser apresentada (nome do grupo, endereço, horários - fictício se a busca não der detalhes).\n",
        "            - Mencione a Linha de Ajuda Nacional de JA, se informações sobre ela forem encontradas.\n",
        "        - Ao final, inclua um aviso importante: \"As informações de contato e locais podem variar e devem ser verificadas nas fontes oficiais. Esta busca é um ponto de partida.\"\n",
        "        - Seja empático e encorajador.\n",
        "        - Forneça informações úteis e acionáveis.\n",
        "        - Não faça diagnósticos nem ofereça conselhos terapêuticos, apenas informações de recursos.\n",
        "        - O usuário fornecerá a cidade e o estado. Use essa informação para direcionar suas buscas.\n",
        "        Exemplo de entrada do usuário: \"Preciso de ajuda para ludopatia em Campinas, SP\"\n",
        "        \"\"\"\n",
        "    )\n",
        ")"
      ],
      "metadata": {
        "id": "YAyFOrEyL3lO"
      },
      "execution_count": 41,
      "outputs": []
    },
    {
      "cell_type": "code",
      "source": [
        "# --- Funções Utilitárias (fornecidas pelo usuário e adaptadas) ---\n",
        "def call_adk_agent(agent: Agent, message_text: str) -> str:\n",
        "    \"\"\"\n",
        "    Função para chamar um agente ADK e obter sua resposta.\n",
        "    \"\"\"\n",
        "    session_service = InMemorySessionService()\n",
        "    # session_id pode ser dinâmico ou fixo dependendo da necessidade de manter contexto entre chamadas\n",
        "    session = session_service.create_session(app_name=agent.name, user_id=\"user1\",\n",
        "                                             session_id=f\"session_{datetime.datetime.now().timestamp()}\")\n",
        "    runner = Runner(agent=agent, app_name=agent.name, session_service=session_service)\n",
        "\n",
        "    # Corrigido para usar genai_types.Content e genai_types.Part\n",
        "    content = genai_types.Content(role=\"user\", parts=[genai_types.Part(text=message_text)])\n",
        "\n",
        "    final_response = \"\"\n",
        "    print(f\"\\nChamando {agent.name} com a mensagem: '{message_text}'...\")\n",
        "    print(\"Aguarde, buscando informações online...\")\n",
        "\n",
        "    try:\n",
        "        for event in runner.run(user_id=\"user1\", session_id=session.id, new_message=content):\n",
        "            if event.is_final_response():\n",
        "                for part in event.content.parts:\n",
        "                    if part.text is not None:\n",
        "                        final_response += part.text\n",
        "                        final_response += \"\\n\"\n",
        "\n",
        "    except Exception as e:\n",
        "        print(f\"Erro ao executar o agente ADK: {e}\")\n",
        "        return \"Desculpe, ocorreu um erro ao tentar buscar as informações. Tente novamente mais tarde.\"\n",
        "\n",
        "    if not final_response.strip():\n",
        "        return \"Não consegui encontrar uma resposta específica no momento. Tente refazer a pergunta ou consulte diretamente um profissional.\"\n",
        "    return final_response"
      ],
      "metadata": {
        "id": "B3cVEyJEMJ5G"
      },
      "execution_count": 16,
      "outputs": []
    },
    {
      "cell_type": "code",
      "source": [
        "def to_markdown_display(text):\n",
        "    \"\"\"\n",
        "    Converte o texto para Markdown e o exibe (específico para ambientes como IPython/Jupyter).\n",
        "    \"\"\"\n",
        "    text = text.replace('•', '  *')\n",
        "    # Envolve a resposta completa em um bloco de citação para melhor visualização\n",
        "    # e para garantir que o Markdown seja renderizado corretamente.\n",
        "    # Adiciona uma linha inicial para garantir que a indentação comece corretamente.\n",
        "    # markdown_text = \"> \\n\" + textwrap.indent(text, '> ', predicate=lambda _: True)\n",
        "    # Simplificado para apenas exibir como Markdown, a indentação pode ser feita pelo display\n",
        "    display(Markdown(text))"
      ],
      "metadata": {
        "id": "CL-ghnuSM92m"
      },
      "execution_count": 17,
      "outputs": []
    },
    {
      "cell_type": "code",
      "source": [
        "def main():\n",
        "    \"\"\"\n",
        "    Função principal para orquestrar a interação com os agentes.\n",
        "    \"\"\"\n",
        "    print(\"======================================================\")\n",
        "    print(\"=== Bem-vindo(a) ao Sistema de Apoio sobre Ludopatia ===\")\n",
        "    print(\"======================================================\")\n",
        "    print(\"Este sistema foi desenvolvido para oferecer informações e um espaço de reflexão.\")\n",
        "    print(\"Ele NÃO FORNECE DIAGNÓSTICO MÉDICO. Se você ou alguém que conhece precisa de ajuda,\")\n",
        "    print(\"procure um profissional de saúde qualificado.\")\n",
        "    print(\"Sua privacidade é importante. As informações aqui trocadas são apenas para esta interação.\")\n",
        "\n",
        "    # Verifica se a API Key está configurada antes de prosseguir\n",
        "    if \"GOOGLE_API_KEY\" not in os.environ or not os.environ[\"GOOGLE_API_KEY\"] or \"SUA_CHAVE_API_AQUI\" in os.environ[\n",
        "        \"GOOGLE_API_KEY\"]:\n",
        "        print(\"\\nCONFIGURAÇÃO NECESSÁRIA: Por favor, configure sua GOOGLE_API_KEY no início do script para continuar.\")\n",
        "        return\n",
        "\n",
        "    agente_triagem_local = AgenteTriagem()  # Renomeado para evitar confusão com ADK Agents\n",
        "    agente_triagem_local.iniciar_triagem()\n",
        "\n",
        "    print(\"\\n--- Agente de Encaminhamento e Busca de Recursos (com Google Search) ---\")\n",
        "    while True:\n",
        "        interesse = input(\n",
        "            \"Você gostaria de informações sobre onde buscar ajuda profissional ou grupos de apoio como Jogadores Anônimos? (sim/nao): \").strip().lower()\n",
        "        if interesse in ['sim', 's']:\n",
        "            cidade = input(\n",
        "                \"Para ajudá-lo(a) a encontrar recursos, por favor, informe sua cidade (ou a cidade mais próxima): \").strip()\n",
        "            estado = input(f\"E o estado onde {cidade} se localiza (sigla, ex: SP, RJ): \").strip().upper()\n",
        "\n",
        "            if not cidade or not estado:\n",
        "                print(\"Cidade e estado são necessários para a busca. Por favor, tente novamente.\")\n",
        "                continue\n",
        "\n",
        "            mensagem_para_agente_encaminhamento = f\"Preciso de informações sobre recursos de ajuda para ludopatia em {cidade}, {estado}.\"\n",
        "\n",
        "            # Chamar o agente ADK de encaminhamento\n",
        "            resposta_agente_encaminhamento = call_adk_agent(agente_encaminhamento,\n",
        "                                                            mensagem_para_agente_encaminhamento)\n",
        "\n",
        "            print(\"\\n--- Resposta do Agente de Encaminhamento ---\")\n",
        "            # Usar a função to_markdown_display para formatar e exibir a saída\n",
        "            # Se não estiver em um ambiente IPython/Jupyter, substitua por print()\n",
        "            to_markdown_display(resposta_agente_encaminhamento)\n",
        "            # print(resposta_agente_encaminhamento) # Alternativa para ambientes não-IPython\n",
        "            break\n",
        "        elif interesse in ['nao', 'n']:\n",
        "            print(\"Entendido. Se precisar de informações no futuro, saiba que elas existem.\")\n",
        "            print(\"Lembre-se, buscar ajuda é um sinal de força.\")\n",
        "            break\n",
        "        else:\n",
        "            print(\"Por favor, responda apenas com 'sim' ou 'nao'.\")\n",
        "\n",
        "    print(\"\\n======================================================\")\n",
        "    print(\"=== Obrigado por utilizar o Sistema de Apoio       ===\")\n",
        "    print(\"======================================================\")\n",
        "    print(\"Lembre-se: Cuidar da sua saúde mental é fundamental. Não hesite em buscar ajuda.\")"
      ],
      "metadata": {
        "id": "W2Q7ZD4vNEQT"
      },
      "execution_count": 18,
      "outputs": []
    },
    {
      "cell_type": "code",
      "source": [
        "if __name__ == \"__main__\":\n",
        "    print(\"INFO: Script executado como principal (__name__ == '__main__').\")\n",
        "    main()"
      ],
      "metadata": {
        "colab": {
          "base_uri": "https://localhost:8080/"
        },
        "id": "Y8-lOY-yNLGk",
        "outputId": "62dbb9a5-80fd-452d-af47-f01f6a9bf51e"
      },
      "execution_count": null,
      "outputs": [
        {
          "output_type": "stream",
          "name": "stdout",
          "text": [
            "INFO: Script executado como principal (__name__ == '__main__').\n",
            "\n",
            "--- Agente de Triagem e Autoconscientização ---\n",
            "Olá! Sou um assistente virtual e estou aqui para ajudar você a refletir sobre seus hábitos de jogo.\n",
            "Vou fazer algumas perguntas. Por favor, responda com 'sim' ou 'nao'.\n",
            "Lembre-se, isto não é um diagnóstico, mas uma forma de autoconhecimento.\n",
            "\n"
          ]
        }
      ]
    }
  ]
}